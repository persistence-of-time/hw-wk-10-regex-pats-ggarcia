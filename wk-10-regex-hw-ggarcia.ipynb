{
 "cells": [
  {
   "cell_type": "markdown",
   "id": "c2dde030",
   "metadata": {},
   "source": [
    "### wk-10-regex-hw-ggarcia"
   ]
  },
  {
   "cell_type": "code",
   "execution_count": 2,
   "id": "049d0664",
   "metadata": {},
   "outputs": [
    {
     "ename": "SyntaxError",
     "evalue": "invalid syntax (4220935313.py, line 1)",
     "output_type": "error",
     "traceback": [
      "\u001b[0;36m  File \u001b[0;32m\"/var/folders/cd/ptcktmld0_15yrknc99vw6480000gn/T/ipykernel_8052/4220935313.py\"\u001b[0;36m, line \u001b[0;32m1\u001b[0m\n\u001b[0;31m    Use regex101.com to find the solutions to the following problems:\u001b[0m\n\u001b[0m        ^\u001b[0m\n\u001b[0;31mSyntaxError\u001b[0m\u001b[0;31m:\u001b[0m invalid syntax\n"
     ]
    }
   ],
   "source": [
    "Use regex101.com to find the solutions to the following problems:\n",
    "\n",
    "NOTE: Copy this entire page and post into regex.101. \n",
    "\n",
    "Do not copy individual questions. \n",
    "\n",
    "\n",
    "#### 1. Create a pattern that finds any permutation of the name \"John Smith\". This should include \"Jon Smith\" or \"Jon Smythe\", etc. Here are the names: \n",
    "\n",
    "Florence smith\n",
    "John Smith\n",
    "Carol Brown\n",
    "Peter Trapp\n",
    "Jon Smythe\n",
    "Luca Smith\n",
    "John Smythe\n",
    "Maggie Veach\n",
    "Jon Smith\n",
    "Katie Pine\n",
    "John Smth\n",
    "John Brown\n",
    "jon Smith\n",
    "Peter Finch\n",
    "Novel Djokvich\n",
    "\n",
    "\n",
    "\n",
    "\n",
    "#### 2. Create separate patterns that find all the following invoice numbers and dates:\n",
    "\n",
    "-Invoice 34244 form\n",
    "-Date of invoice: 10/22/2001\n",
    "-Invoice 49204\n",
    "\n",
    "\n",
    "-Invoice 34244 form\n",
    "-Date of invoice: 9/12/2001\n",
    "-Invoice 495046\n",
    "\n",
    "\n",
    "-Invoice 34244 form\n",
    "-Date of invoice: 4/1/22\n",
    "-Invoice 4951046\n",
    "\n",
    "-Invoice 34244 form\n",
    "-Date of invoice: 10/22/2001\n",
    "-Invoice 49204\n",
    "\n",
    "#### 3. Create a pattern that finds all animals and their weights\n",
    "\n",
    "-Animal, Weight\n",
    "-Cat, 20\n",
    "-Dog, 50\n",
    "-Rhino, 809\n",
    "-Elephant, 1000"
   ]
  },
  {
   "cell_type": "markdown",
   "id": "a0b4bfab",
   "metadata": {},
   "source": [
    "# Answers:"
   ]
  },
  {
   "cell_type": "markdown",
   "id": "cceb3a52",
   "metadata": {},
   "source": [
    "#### 1. Create a pattern that finds any permutation of the name \"John Smith\". This should include \"Jon Smith\" or \"Jon Smythe\", etc. Here are the names: \n",
    "\n",
    "Answer:``` (^jo|Jo[aA-zZ]{,7}\\s)|(^sm|Sm[aA-zZ]{,7}\\s)```"
   ]
  },
  {
   "cell_type": "markdown",
   "id": "e7884c42",
   "metadata": {},
   "source": [
    "#### 2. Create separate patterns that find all the following invoice numbers and dates:\n",
    "\n",
    "Answer: ```[0-9]+/*[^\\.]```\n"
   ]
  },
  {
   "cell_type": "markdown",
   "id": "cc0d5ae4",
   "metadata": {},
   "source": [
    "#### 3. Create a pattern that finds all animals and their weights\n",
    "\n",
    "Answer: ```([aA-zZ]+\\,\\s+\\d{,4})[^aA-zZ]```"
   ]
  },
  {
   "cell_type": "code",
   "execution_count": null,
   "id": "5a54ed72",
   "metadata": {},
   "outputs": [],
   "source": []
  }
 ],
 "metadata": {
  "kernelspec": {
   "display_name": "Python 3 (ipykernel)",
   "language": "python",
   "name": "python3"
  },
  "language_info": {
   "codemirror_mode": {
    "name": "ipython",
    "version": 3
   },
   "file_extension": ".py",
   "mimetype": "text/x-python",
   "name": "python",
   "nbconvert_exporter": "python",
   "pygments_lexer": "ipython3",
   "version": "3.9.7"
  }
 },
 "nbformat": 4,
 "nbformat_minor": 5
}
